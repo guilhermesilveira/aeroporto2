{
  "nbformat": 4,
  "nbformat_minor": 0,
  "metadata": {
    "colab": {
      "provenance": []
    },
    "kernelspec": {
      "name": "python3",
      "display_name": "Python 3"
    },
    "language_info": {
      "name": "python"
    }
  },
  "cells": [
    {
      "cell_type": "code",
      "source": [
        "!pip install ortools==9.7.2996 pandas==2.1.0"
      ],
      "metadata": {
        "colab": {
          "base_uri": "https://localhost:8080/"
        },
        "id": "7j4OtLBMmSfY",
        "outputId": "0a21413d-dafe-4b14-8c9f-4e309b918b51"
      },
      "execution_count": 61,
      "outputs": [
        {
          "output_type": "stream",
          "name": "stdout",
          "text": [
            "Requirement already satisfied: ortools==9.7.2996 in /usr/local/lib/python3.10/dist-packages (9.7.2996)\n",
            "Requirement already satisfied: pandas==2.1.0 in /usr/local/lib/python3.10/dist-packages (2.1.0)\n",
            "Requirement already satisfied: absl-py>=0.13 in /usr/local/lib/python3.10/dist-packages (from ortools==9.7.2996) (1.4.0)\n",
            "Requirement already satisfied: numpy>=1.13.3 in /usr/local/lib/python3.10/dist-packages (from ortools==9.7.2996) (1.23.5)\n",
            "Requirement already satisfied: protobuf>=4.23.3 in /usr/local/lib/python3.10/dist-packages (from ortools==9.7.2996) (4.25.0)\n",
            "Requirement already satisfied: python-dateutil>=2.8.2 in /usr/local/lib/python3.10/dist-packages (from pandas==2.1.0) (2.8.2)\n",
            "Requirement already satisfied: pytz>=2020.1 in /usr/local/lib/python3.10/dist-packages (from pandas==2.1.0) (2023.3.post1)\n",
            "Requirement already satisfied: tzdata>=2022.1 in /usr/local/lib/python3.10/dist-packages (from pandas==2.1.0) (2023.3)\n",
            "Requirement already satisfied: six>=1.5 in /usr/local/lib/python3.10/dist-packages (from python-dateutil>=2.8.2->pandas==2.1.0) (1.16.0)\n"
          ]
        }
      ]
    },
    {
      "cell_type": "code",
      "execution_count": 62,
      "metadata": {
        "id": "4h9pRo3glwYk"
      },
      "outputs": [],
      "source": [
        "from ortools.sat.python import cp_model"
      ]
    },
    {
      "cell_type": "code",
      "source": [
        "variaveis_a_logar = []\n",
        "\n",
        "# variavel global do genero nao eh boa pratica, usando somente para logar e nos informar\n",
        "# nao colocar em codigo para producao\n",
        "def loga(variavel):\n",
        "  global variaveis_a_logar\n",
        "  variaveis_a_logar.append(variavel)"
      ],
      "metadata": {
        "id": "7zOIV1yicDtr"
      },
      "execution_count": 63,
      "outputs": []
    },
    {
      "cell_type": "code",
      "source": [
        "def resolve(solucionador, modelo, X):\n",
        "  status = solucionador.Solve(modelo)\n",
        "  print(f\"Status: {status}\")\n",
        "\n",
        "  if status == cp_model.OPTIMAL:\n",
        "    print(\"Optimal\")\n",
        "\n",
        "    for i, linha in enumerate(X):\n",
        "      for j, variavel in enumerate(linha):\n",
        "        valor = solucionador.Value(variavel)\n",
        "        if valor == 1:\n",
        "          print(f\"{variavel} = {valor}\")\n",
        "\n",
        "    print(f\"Custo total={solucionador.ObjectiveValue()}\")\n",
        "\n",
        "  else:\n",
        "    print(\"Solucao nao encontrada\")"
      ],
      "metadata": {
        "id": "4qL4AybSkDhp"
      },
      "execution_count": 108,
      "outputs": []
    },
    {
      "cell_type": "code",
      "source": [
        "def multiplicar_matrizes_item_por_item(matriz1, matriz2):\n",
        "  return [matriz1[i][j] * matriz2[i][j]\n",
        "            for i in range(total_avioes)\n",
        "            for j in range(total_estacionamentos)]"
      ],
      "metadata": {
        "id": "C9USx6IlvMEy"
      },
      "execution_count": 109,
      "outputs": []
    },
    {
      "cell_type": "code",
      "source": [
        "modelo = cp_model.CpModel()\n",
        "solucionador = cp_model.CpSolver()\n",
        "\n",
        "total_avioes = 1\n",
        "total_estacionamentos = 3\n",
        "\n",
        "requer_onibus = [0, 1, 0]\n",
        "distancias = [10, 200, 20]\n",
        "passageiros = [100]\n",
        "\n",
        "custos = []\n",
        "for i in range(total_avioes):\n",
        "  custos_do_aviao = []\n",
        "  for j in range(total_estacionamentos):\n",
        "    if requer_onibus[j]:\n",
        "      custo = 500 * distancias[j] * passageiros[i]\n",
        "    else:\n",
        "      custo = 100 * distancias[j] * passageiros[i]\n",
        "    custos_do_aviao.append(custo)\n",
        "  custos.append(custos_do_aviao)\n",
        "\n",
        "print(\"Supostos custos possiveis\")\n",
        "for i, linha in enumerate(custos):\n",
        "  print(f\"Aviao {i}: {linha}\")\n",
        "\n",
        "X = [[modelo.NewBoolVar(f'aviao_{i}_em_estacionamento_{j}') for j in range(total_estacionamentos)]\n",
        "      for i in range(total_avioes)]\n",
        "\n",
        "for i, linha in enumerate(X):\n",
        "  print(f\"Aviao {i} = {linha}\")\n",
        "\n",
        "for linha_do_aviao in X:\n",
        "  modelo.AddExactlyOne(linha_do_aviao)\n",
        "\n",
        "for j in range(total_estacionamentos):\n",
        "  modelo.AddAtMostOne([X[i][j] for i in range(total_avioes)])\n",
        "\n",
        "\n",
        "modelo.Minimize(sum(multiplicar_matrizes_item_por_item(X, custos)))\n",
        "\n",
        "\n",
        "\n",
        "resolve(solucionador, modelo, X)"
      ],
      "metadata": {
        "colab": {
          "base_uri": "https://localhost:8080/"
        },
        "id": "t7vmFh_thlyI",
        "outputId": "9bbece4f-a938-4d9c-b28d-df7a93a50385"
      },
      "execution_count": 110,
      "outputs": [
        {
          "output_type": "stream",
          "name": "stdout",
          "text": [
            "Supostos custos possiveis\n",
            "Aviao 0: [100000, 10000000, 200000]\n",
            "Aviao 0 = [aviao_0_em_estacionamento_0(0..1), aviao_0_em_estacionamento_1(0..1), aviao_0_em_estacionamento_2(0..1)]\n",
            "Status: 4\n",
            "Optimal\n",
            "aviao_0_em_estacionamento_0 = 1\n",
            "Custo total=100000.0\n"
          ]
        }
      ]
    },
    {
      "cell_type": "code",
      "source": [
        "modelo = cp_model.CpModel()\n",
        "solucionador = cp_model.CpSolver()\n",
        "\n",
        "total_avioes = 2\n",
        "total_estacionamentos = 3\n",
        "\n",
        "requer_onibus = [0, 1, 0]\n",
        "distancias = [10, 200, 20]\n",
        "passageiros = [100, 150]\n",
        "\n",
        "custos = []\n",
        "for i in range(total_avioes):\n",
        "  custos_do_aviao = []\n",
        "  for j in range(total_estacionamentos):\n",
        "    if requer_onibus[j]:\n",
        "      custo = 500 * distancias[j] * passageiros[i]\n",
        "    else:\n",
        "      custo = 100 * distancias[j] * passageiros[i]\n",
        "    custos_do_aviao.append(custo)\n",
        "  custos.append(custos_do_aviao)\n",
        "\n",
        "print(\"Supostos custos possiveis\")\n",
        "for i, linha in enumerate(custos):\n",
        "  print(f\"Aviao {i}: {linha}\")\n",
        "\n",
        "X = [[modelo.NewBoolVar(f'aviao_{i}_em_estacionamento_{j}') for j in range(total_estacionamentos)]\n",
        "      for i in range(total_avioes)]\n",
        "\n",
        "for i, linha in enumerate(X):\n",
        "  print(f\"Aviao {i} = {linha}\")\n",
        "\n",
        "for linha_do_aviao in X:\n",
        "  modelo.AddExactlyOne(linha_do_aviao)\n",
        "\n",
        "for j in range(total_estacionamentos):\n",
        "  modelo.AddAtMostOne([X[i][j] for i in range(total_avioes)])\n",
        "\n",
        "\n",
        "modelo.Minimize(sum(multiplicar_matrizes_item_por_item(X, custos)))\n",
        "\n",
        "\n",
        "\n",
        "resolve(solucionador, modelo, X)"
      ],
      "metadata": {
        "colab": {
          "base_uri": "https://localhost:8080/"
        },
        "id": "9n9HYu3GjVKA",
        "outputId": "33a22a64-c1da-4903-84b5-2998d2124a85"
      },
      "execution_count": 111,
      "outputs": [
        {
          "output_type": "stream",
          "name": "stdout",
          "text": [
            "Supostos custos possiveis\n",
            "Aviao 0: [100000, 10000000, 200000]\n",
            "Aviao 1: [150000, 15000000, 300000]\n",
            "Aviao 0 = [aviao_0_em_estacionamento_0(0..1), aviao_0_em_estacionamento_1(0..1), aviao_0_em_estacionamento_2(0..1)]\n",
            "Aviao 1 = [aviao_1_em_estacionamento_0(0..1), aviao_1_em_estacionamento_1(0..1), aviao_1_em_estacionamento_2(0..1)]\n",
            "Status: 4\n",
            "Optimal\n",
            "aviao_0_em_estacionamento_2 = 1\n",
            "aviao_1_em_estacionamento_0 = 1\n",
            "Custo total=350000.0\n"
          ]
        }
      ]
    },
    {
      "cell_type": "code",
      "source": [],
      "metadata": {
        "id": "mq-TLwjvwCfN"
      },
      "execution_count": null,
      "outputs": []
    }
  ]
}