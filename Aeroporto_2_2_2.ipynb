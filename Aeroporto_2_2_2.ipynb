{
  "nbformat": 4,
  "nbformat_minor": 0,
  "metadata": {
    "colab": {
      "provenance": []
    },
    "kernelspec": {
      "name": "python3",
      "display_name": "Python 3"
    },
    "language_info": {
      "name": "python"
    }
  },
  "cells": [
    {
      "cell_type": "code",
      "source": [
        "!pip install ortools==9.7.2996 pandas==2.1.0"
      ],
      "metadata": {
        "colab": {
          "base_uri": "https://localhost:8080/"
        },
        "id": "7j4OtLBMmSfY",
        "outputId": "0a21413d-dafe-4b14-8c9f-4e309b918b51"
      },
      "execution_count": 61,
      "outputs": [
        {
          "output_type": "stream",
          "name": "stdout",
          "text": [
            "Requirement already satisfied: ortools==9.7.2996 in /usr/local/lib/python3.10/dist-packages (9.7.2996)\n",
            "Requirement already satisfied: pandas==2.1.0 in /usr/local/lib/python3.10/dist-packages (2.1.0)\n",
            "Requirement already satisfied: absl-py>=0.13 in /usr/local/lib/python3.10/dist-packages (from ortools==9.7.2996) (1.4.0)\n",
            "Requirement already satisfied: numpy>=1.13.3 in /usr/local/lib/python3.10/dist-packages (from ortools==9.7.2996) (1.23.5)\n",
            "Requirement already satisfied: protobuf>=4.23.3 in /usr/local/lib/python3.10/dist-packages (from ortools==9.7.2996) (4.25.0)\n",
            "Requirement already satisfied: python-dateutil>=2.8.2 in /usr/local/lib/python3.10/dist-packages (from pandas==2.1.0) (2.8.2)\n",
            "Requirement already satisfied: pytz>=2020.1 in /usr/local/lib/python3.10/dist-packages (from pandas==2.1.0) (2023.3.post1)\n",
            "Requirement already satisfied: tzdata>=2022.1 in /usr/local/lib/python3.10/dist-packages (from pandas==2.1.0) (2023.3)\n",
            "Requirement already satisfied: six>=1.5 in /usr/local/lib/python3.10/dist-packages (from python-dateutil>=2.8.2->pandas==2.1.0) (1.16.0)\n"
          ]
        }
      ]
    },
    {
      "cell_type": "code",
      "execution_count": 62,
      "metadata": {
        "id": "4h9pRo3glwYk"
      },
      "outputs": [],
      "source": [
        "from ortools.sat.python import cp_model"
      ]
    },
    {
      "cell_type": "code",
      "source": [
        "variaveis_a_logar = []\n",
        "\n",
        "# variavel global do genero nao eh boa pratica, usando somente para logar e nos informar\n",
        "# nao colocar em codigo para producao\n",
        "def loga(variavel):\n",
        "  global variaveis_a_logar\n",
        "  variaveis_a_logar.append(variavel)"
      ],
      "metadata": {
        "id": "7zOIV1yicDtr"
      },
      "execution_count": 63,
      "outputs": []
    },
    {
      "cell_type": "code",
      "source": [
        "def resolve(solucionador, modelo, estacionamentos, avioes, penalidades):\n",
        "  global variaveis_a_logar\n",
        "\n",
        "  modelo.Minimize(sum(penalidades))\n",
        "  status = solucionador.Solve(modelo)\n",
        "  print(solucionador.StatusName(status))\n",
        "  if status == cp_model.INFEASIBLE:\n",
        "    print(\"Sem solucao\")\n",
        "    return\n",
        "\n",
        "  print(f\"Valor objetivo = {solucionador.ObjectiveValue()}\")\n",
        "\n",
        "  for variavel in variaveis_a_logar:\n",
        "    print(f\"{variavel} tem valor {solucionador.Value(variavel)}\")\n",
        "\n",
        "  for estacionamento in estacionamentos:\n",
        "    variavel = estacionamento.variavel\n",
        "    valor = solucionador.Value(variavel)\n",
        "    if valor == 0:\n",
        "      print(f\"{variavel} sem aviao\")\n",
        "    else:\n",
        "      aviao = avioes[valor - 1]\n",
        "      print(f\"{variavel} tem aviao {valor} grande={aviao.grande}\")\n"
      ],
      "metadata": {
        "id": "CKCYwa_Dw3iB"
      },
      "execution_count": 64,
      "outputs": []
    },
    {
      "cell_type": "code",
      "source": [
        "def avioes_distintos(estacionamentos, modelo):\n",
        "  variaveis = [estacionamento.variavel for estacionamento in estacionamentos]\n",
        "  modelo.AddAllDifferent(variaveis)"
      ],
      "metadata": {
        "id": "OY57DyhszDKf"
      },
      "execution_count": 65,
      "outputs": []
    },
    {
      "cell_type": "code",
      "source": [
        "def todo_aviao_tem_que_estacionar(total_de_avioes, estacionamentos, modelo):\n",
        "  variaveis = {}\n",
        "  for i in range(1, total_de_avioes + 1):\n",
        "    for j, estacionamento in enumerate(estacionamentos):\n",
        "      aviao_i_em_j = modelo.NewBoolVar(f'aviao_{i}_em{j}')\n",
        "      modelo.Add(estacionamento.variavel == i).OnlyEnforceIf(aviao_i_em_j)\n",
        "      modelo.Add(estacionamento.variavel != i).OnlyEnforceIf(aviao_i_em_j.Not())\n",
        "      variaveis[(i, j)] = aviao_i_em_j\n",
        "\n",
        "  for i in range(1, total_de_avioes + 1):\n",
        "    modelo.AddExactlyOne([variaveis[(i,j)] for j in range(len(estacionamentos))])\n"
      ],
      "metadata": {
        "id": "TGlRLwX7zug8"
      },
      "execution_count": 66,
      "outputs": []
    },
    {
      "cell_type": "code",
      "source": [
        "class Estacionamento:\n",
        "  def __init__(self, k, total_de_avioes, grande, modelo, tem_controle_de_passaporte):\n",
        "    self.grande = grande\n",
        "    self.tem_controle_de_passaporte = tem_controle_de_passaporte\n",
        "    self.variavel = modelo.NewIntVar(0, total_de_avioes, f'estacionamento_{k}')\n",
        "    self.k = k\n",
        "    self.vizinhos = []\n",
        "    self.recebe_aviao_grande = modelo.NewBoolVar(f'recebe_aviao_grande_{k}')\n",
        "    if not self.grande:\n",
        "      modelo.Add(self.recebe_aviao_grande == 0)"
      ],
      "metadata": {
        "id": "qGAibZ_G9Z4w"
      },
      "execution_count": 67,
      "outputs": []
    },
    {
      "cell_type": "code",
      "source": [
        "class Aviao:\n",
        "  def __init__(self, k, grande, requer_controle_de_passaporte):\n",
        "    self.k = k\n",
        "    self.grande = grande\n",
        "    self.requer_controle_de_passaporte = requer_controle_de_passaporte"
      ],
      "metadata": {
        "id": "70GM0fyB-xbu"
      },
      "execution_count": 68,
      "outputs": []
    },
    {
      "cell_type": "code",
      "source": [
        "def limita_aviao_grande_para_estacionamento_grande(modelo, estacionamentos, avioes):\n",
        "  avioes_grandes = [aviao for aviao in avioes if aviao.grande]\n",
        "  for estacionamento in estacionamentos:\n",
        "    for aviao in avioes_grandes:\n",
        "      modelo.Add(estacionamento.variavel != aviao.k).OnlyEnforceIf(estacionamento.recebe_aviao_grande.Not())"
      ],
      "metadata": {
        "id": "yqig-Dd0-1p-"
      },
      "execution_count": 69,
      "outputs": []
    },
    {
      "cell_type": "code",
      "source": [
        "def limita_vizinhos(modelo, estacionamentos, avioes):\n",
        "  for estacionamento in estacionamentos:\n",
        "    if not estacionamento.grande:\n",
        "      continue\n",
        "    for vizinho in estacionamento.vizinhos:\n",
        "      if vizinho.grande:\n",
        "        # se o vizinho tem um aviao grande => eu nao posso receber aviao grande\n",
        "        modelo.Add(estacionamento.recebe_aviao_grande == 0).OnlyEnforceIf(vizinho.recebe_aviao_grande)"
      ],
      "metadata": {
        "id": "CHDaxcEICuxl"
      },
      "execution_count": 70,
      "outputs": []
    },
    {
      "cell_type": "code",
      "source": [
        "def limitar_avioes_que_requerem_passaporte(modelo, estacionamentos, avioes):\n",
        "  avioes_com_controle = [aviao for aviao in avioes if aviao.requer_controle_de_passaporte]\n",
        "  estacionamentos_sem_controle = [estacionamento for estacionamento in estacionamentos if not estacionamento.tem_controle_de_passaporte]\n",
        "  for estacionamento in estacionamentos_sem_controle:\n",
        "    for aviao in avioes_com_controle:\n",
        "      modelo.Add(estacionamento.variavel != aviao.k)"
      ],
      "metadata": {
        "id": "0eGLHGkgR1LE"
      },
      "execution_count": 71,
      "outputs": []
    },
    {
      "cell_type": "code",
      "source": [
        "def prefere_avioes_com_controle_de_passaporte(modelo, estacionamentos, avioes):\n",
        "  penalidades = []\n",
        "\n",
        "  estacionamentos_com_controle = [estacionamento for estacionamento in estacionamentos if estacionamento.tem_controle_de_passaporte]\n",
        "  avioes_sem_controle = [aviao for aviao in avioes if not aviao.requer_controle_de_passaporte]\n",
        "  for estacionamento in estacionamentos_com_controle:\n",
        "    for aviao in avioes_sem_controle:\n",
        "      penalidade = modelo.NewIntVar(0, 1000, f'penalidade_{estacionamento.k}_{aviao.k}')\n",
        "\n",
        "      aviao_esta_nesse_estacionamento = modelo.NewBoolVar(f'estacionamento_{estacionamento.k}_tem_aviao_{aviao.k}')\n",
        "      modelo.Add(estacionamento.variavel == aviao.k).OnlyEnforceIf(aviao_esta_nesse_estacionamento)\n",
        "      modelo.Add(estacionamento.variavel != aviao.k).OnlyEnforceIf(aviao_esta_nesse_estacionamento.Not())\n",
        "\n",
        "      modelo.Add(penalidade == 1000).OnlyEnforceIf(aviao_esta_nesse_estacionamento)\n",
        "      modelo.Add(penalidade == 0).OnlyEnforceIf(aviao_esta_nesse_estacionamento.Not())\n",
        "\n",
        "      loga(penalidade)\n",
        "      penalidades.append(penalidade)\n",
        "  return penalidades\n"
      ],
      "metadata": {
        "id": "YcoDvKQ1Wyje"
      },
      "execution_count": 72,
      "outputs": []
    },
    {
      "cell_type": "code",
      "source": [
        "avioes = [Aviao(1, False, True),\n",
        "          Aviao(2, False, False)]\n",
        "modelo = cp_model.CpModel()\n",
        "total_de_avioes = len(avioes)\n",
        "variaveis_a_logar = []\n",
        "\n",
        "estacionamentos = [Estacionamento(1, total_de_avioes, False, modelo, True),\n",
        "                   Estacionamento(2, total_de_avioes, False, modelo, False)]\n",
        "\n",
        "avioes_distintos(estacionamentos, modelo)\n",
        "todo_aviao_tem_que_estacionar(total_de_avioes, estacionamentos, modelo)\n",
        "limita_vizinhos(modelo, estacionamentos, avioes)\n",
        "limita_aviao_grande_para_estacionamento_grande(modelo, estacionamentos, avioes)\n",
        "limitar_avioes_que_requerem_passaporte(modelo, estacionamentos, avioes)\n",
        "penalidades= prefere_avioes_com_controle_de_passaporte(modelo, estacionamentos, avioes)\n",
        "\n",
        "solucionador = cp_model.CpSolver()\n",
        "resolve(solucionador, modelo, estacionamentos, avioes, penalidades)"
      ],
      "metadata": {
        "colab": {
          "base_uri": "https://localhost:8080/"
        },
        "id": "2_aGd__Z_Ftn",
        "outputId": "fdab097f-a95a-4b16-e4e9-619bddcfb67a"
      },
      "execution_count": 73,
      "outputs": [
        {
          "output_type": "stream",
          "name": "stdout",
          "text": [
            "OPTIMAL\n",
            "Valor objetivo = 0.0\n",
            "penalidade_1_2 tem valor 0\n",
            "estacionamento_1 tem aviao 1 grande=False\n",
            "estacionamento_2 tem aviao 2 grande=False\n"
          ]
        }
      ]
    },
    {
      "cell_type": "code",
      "source": [
        "avioes = [Aviao(1, False, False),\n",
        "          Aviao(2, False, True)]\n",
        "modelo = cp_model.CpModel()\n",
        "total_de_avioes = len(avioes)\n",
        "variaveis_a_logar = []\n",
        "\n",
        "estacionamentos = [Estacionamento(1, total_de_avioes, False, modelo, True),\n",
        "                   Estacionamento(2, total_de_avioes, False, modelo, False)]\n",
        "\n",
        "avioes_distintos(estacionamentos, modelo)\n",
        "todo_aviao_tem_que_estacionar(total_de_avioes, estacionamentos, modelo)\n",
        "limita_vizinhos(modelo, estacionamentos, avioes)\n",
        "limita_aviao_grande_para_estacionamento_grande(modelo, estacionamentos, avioes)\n",
        "limitar_avioes_que_requerem_passaporte(modelo, estacionamentos, avioes)\n",
        "penalidades= prefere_avioes_com_controle_de_passaporte(modelo, estacionamentos, avioes)\n",
        "\n",
        "\n",
        "solucionador = cp_model.CpSolver()\n",
        "resolve(solucionador, modelo, estacionamentos, avioes, penalidades)"
      ],
      "metadata": {
        "id": "hJnPvCnSLSE4",
        "colab": {
          "base_uri": "https://localhost:8080/"
        },
        "outputId": "2fa549c2-6c68-4020-d8fb-1bf4e27ef8fd"
      },
      "execution_count": 74,
      "outputs": [
        {
          "output_type": "stream",
          "name": "stdout",
          "text": [
            "OPTIMAL\n",
            "Valor objetivo = 0.0\n",
            "penalidade_1_1 tem valor 0\n",
            "estacionamento_1 tem aviao 2 grande=False\n",
            "estacionamento_2 tem aviao 1 grande=False\n"
          ]
        }
      ]
    },
    {
      "cell_type": "code",
      "source": [
        "avioes = [Aviao(1, False, True),\n",
        "          Aviao(2, False, True)]\n",
        "modelo = cp_model.CpModel()\n",
        "total_de_avioes = len(avioes)\n",
        "variaveis_a_logar = []\n",
        "\n",
        "estacionamentos = [Estacionamento(1, total_de_avioes, False, modelo, True),\n",
        "                   Estacionamento(2, total_de_avioes, False, modelo, False)]\n",
        "\n",
        "avioes_distintos(estacionamentos, modelo)\n",
        "todo_aviao_tem_que_estacionar(total_de_avioes, estacionamentos, modelo)\n",
        "limita_vizinhos(modelo, estacionamentos, avioes)\n",
        "limita_aviao_grande_para_estacionamento_grande(modelo, estacionamentos, avioes)\n",
        "limitar_avioes_que_requerem_passaporte(modelo, estacionamentos, avioes)\n",
        "penalidades= prefere_avioes_com_controle_de_passaporte(modelo, estacionamentos, avioes)\n",
        "\n",
        "solucionador = cp_model.CpSolver()\n",
        "resolve(solucionador, modelo, estacionamentos, avioes, penalidades)"
      ],
      "metadata": {
        "colab": {
          "base_uri": "https://localhost:8080/"
        },
        "id": "7mgwNDGDUCbz",
        "outputId": "7b37c3b8-583a-4c0d-b01a-863061189f95"
      },
      "execution_count": 75,
      "outputs": [
        {
          "output_type": "stream",
          "name": "stdout",
          "text": [
            "INFEASIBLE\n",
            "Sem solucao\n"
          ]
        }
      ]
    },
    {
      "cell_type": "code",
      "source": [
        "avioes = [Aviao(1, False, True),\n",
        "          Aviao(2, False, False),\n",
        "          Aviao(3, False, False)]\n",
        "modelo = cp_model.CpModel()\n",
        "total_de_avioes = len(avioes)\n",
        "variaveis_a_logar = []\n",
        "\n",
        "estacionamentos = [Estacionamento(1, total_de_avioes, False, modelo, True),\n",
        "                   Estacionamento(2, total_de_avioes, False, modelo, False),\n",
        "                   Estacionamento(3, total_de_avioes, False, modelo, False)]\n",
        "\n",
        "avioes_distintos(estacionamentos, modelo)\n",
        "todo_aviao_tem_que_estacionar(total_de_avioes, estacionamentos, modelo)\n",
        "limita_vizinhos(modelo, estacionamentos, avioes)\n",
        "limita_aviao_grande_para_estacionamento_grande(modelo, estacionamentos, avioes)\n",
        "limitar_avioes_que_requerem_passaporte(modelo, estacionamentos, avioes)\n",
        "penalidades= prefere_avioes_com_controle_de_passaporte(modelo, estacionamentos, avioes)\n",
        "\n",
        "solucionador = cp_model.CpSolver()\n",
        "resolve(solucionador, modelo, estacionamentos, avioes, penalidades)"
      ],
      "metadata": {
        "colab": {
          "base_uri": "https://localhost:8080/"
        },
        "id": "mos-qv_8UGZy",
        "outputId": "7c6ee901-5445-409f-8d71-21c7886b2463"
      },
      "execution_count": 76,
      "outputs": [
        {
          "output_type": "stream",
          "name": "stdout",
          "text": [
            "OPTIMAL\n",
            "Valor objetivo = 0.0\n",
            "penalidade_1_2 tem valor 0\n",
            "penalidade_1_3 tem valor 0\n",
            "estacionamento_1 tem aviao 1 grande=False\n",
            "estacionamento_2 tem aviao 3 grande=False\n",
            "estacionamento_3 tem aviao 2 grande=False\n"
          ]
        }
      ]
    },
    {
      "cell_type": "code",
      "source": [
        "avioes = [Aviao(1, False, True),\n",
        "          Aviao(2, True, False),\n",
        "          Aviao(3, False, False)]\n",
        "modelo = cp_model.CpModel()\n",
        "total_de_avioes = len(avioes)\n",
        "variaveis_a_logar = []\n",
        "\n",
        "estacionamentos = [Estacionamento(1, total_de_avioes, False, modelo, True),\n",
        "                   Estacionamento(2, total_de_avioes, False, modelo, False),\n",
        "                   Estacionamento(3, total_de_avioes, True, modelo, False)]\n",
        "\n",
        "avioes_distintos(estacionamentos, modelo)\n",
        "todo_aviao_tem_que_estacionar(total_de_avioes, estacionamentos, modelo)\n",
        "limita_vizinhos(modelo, estacionamentos, avioes)\n",
        "limita_aviao_grande_para_estacionamento_grande(modelo, estacionamentos, avioes)\n",
        "limitar_avioes_que_requerem_passaporte(modelo, estacionamentos, avioes)\n",
        "penalidades= prefere_avioes_com_controle_de_passaporte(modelo, estacionamentos, avioes)\n",
        "\n",
        "solucionador = cp_model.CpSolver()\n",
        "resolve(solucionador, modelo, estacionamentos, avioes, penalidades)"
      ],
      "metadata": {
        "colab": {
          "base_uri": "https://localhost:8080/"
        },
        "id": "_xWQ5VhhUMtS",
        "outputId": "4f983052-4623-497d-b873-0c1153f2c231"
      },
      "execution_count": 77,
      "outputs": [
        {
          "output_type": "stream",
          "name": "stdout",
          "text": [
            "OPTIMAL\n",
            "Valor objetivo = 0.0\n",
            "penalidade_1_2 tem valor 0\n",
            "penalidade_1_3 tem valor 0\n",
            "estacionamento_1 tem aviao 1 grande=False\n",
            "estacionamento_2 tem aviao 3 grande=False\n",
            "estacionamento_3 tem aviao 2 grande=True\n"
          ]
        }
      ]
    },
    {
      "cell_type": "code",
      "source": [
        "avioes = [Aviao(1, False, True),\n",
        "          Aviao(2, True, False),\n",
        "          Aviao(3, False, False),\n",
        "          Aviao(4, True, True)]\n",
        "modelo = cp_model.CpModel()\n",
        "total_de_avioes = len(avioes)\n",
        "variaveis_a_logar = []\n",
        "\n",
        "estacionamentos = [Estacionamento(1, total_de_avioes, False, modelo, True),\n",
        "                   Estacionamento(2, total_de_avioes, False, modelo, False),\n",
        "                   Estacionamento(3, total_de_avioes, True, modelo, False),\n",
        "                   Estacionamento(4, total_de_avioes, True, modelo, True)]\n",
        "\n",
        "avioes_distintos(estacionamentos, modelo)\n",
        "todo_aviao_tem_que_estacionar(total_de_avioes, estacionamentos, modelo)\n",
        "limita_vizinhos(modelo, estacionamentos, avioes)\n",
        "limita_aviao_grande_para_estacionamento_grande(modelo, estacionamentos, avioes)\n",
        "limitar_avioes_que_requerem_passaporte(modelo, estacionamentos, avioes)\n",
        "penalidades= prefere_avioes_com_controle_de_passaporte(modelo, estacionamentos, avioes)\n",
        "\n",
        "solucionador = cp_model.CpSolver()\n",
        "resolve(solucionador, modelo, estacionamentos, avioes, penalidades)"
      ],
      "metadata": {
        "colab": {
          "base_uri": "https://localhost:8080/"
        },
        "id": "nX5xcTgiUTxL",
        "outputId": "4623f3eb-22a8-43fa-87bb-0d5577779259"
      },
      "execution_count": 78,
      "outputs": [
        {
          "output_type": "stream",
          "name": "stdout",
          "text": [
            "OPTIMAL\n",
            "Valor objetivo = 0.0\n",
            "penalidade_1_2 tem valor 0\n",
            "penalidade_1_3 tem valor 0\n",
            "penalidade_4_2 tem valor 0\n",
            "penalidade_4_3 tem valor 0\n",
            "estacionamento_1 tem aviao 1 grande=False\n",
            "estacionamento_2 tem aviao 3 grande=False\n",
            "estacionamento_3 tem aviao 2 grande=True\n",
            "estacionamento_4 tem aviao 4 grande=True\n"
          ]
        }
      ]
    },
    {
      "cell_type": "code",
      "source": [
        "avioes = [Aviao(1, False, False),\n",
        "          Aviao(2, False, False)]\n",
        "modelo = cp_model.CpModel()\n",
        "total_de_avioes = len(avioes)\n",
        "variaveis_a_logar = []\n",
        "\n",
        "estacionamentos = [Estacionamento(1, total_de_avioes, False, modelo, True),\n",
        "                   Estacionamento(2, total_de_avioes, False, modelo, False)]\n",
        "\n",
        "avioes_distintos(estacionamentos, modelo)\n",
        "todo_aviao_tem_que_estacionar(total_de_avioes, estacionamentos, modelo)\n",
        "limita_vizinhos(modelo, estacionamentos, avioes)\n",
        "limita_aviao_grande_para_estacionamento_grande(modelo, estacionamentos, avioes)\n",
        "limitar_avioes_que_requerem_passaporte(modelo, estacionamentos, avioes)\n",
        "penalidades= prefere_avioes_com_controle_de_passaporte(modelo, estacionamentos, avioes)\n",
        "\n",
        "solucionador = cp_model.CpSolver()\n",
        "resolve(solucionador, modelo, estacionamentos, avioes, penalidades)"
      ],
      "metadata": {
        "colab": {
          "base_uri": "https://localhost:8080/"
        },
        "id": "xgopqb3AUjK6",
        "outputId": "8e18ff3a-e5e2-42df-a1a3-f1a63b624b88"
      },
      "execution_count": 79,
      "outputs": [
        {
          "output_type": "stream",
          "name": "stdout",
          "text": [
            "OPTIMAL\n",
            "Valor objetivo = 1000.0\n",
            "penalidade_1_1 tem valor 0\n",
            "penalidade_1_2 tem valor 1000\n",
            "estacionamento_1 tem aviao 2 grande=False\n",
            "estacionamento_2 tem aviao 1 grande=False\n"
          ]
        }
      ]
    },
    {
      "cell_type": "code",
      "source": [
        "avioes = [Aviao(1, False, False),\n",
        "          Aviao(2, False, False),\n",
        "          Aviao(3, False, False)]\n",
        "modelo = cp_model.CpModel()\n",
        "total_de_avioes = len(avioes)\n",
        "variaveis_a_logar = []\n",
        "\n",
        "estacionamentos = [Estacionamento(1, total_de_avioes, False, modelo, True),\n",
        "                   Estacionamento(2, total_de_avioes, False, modelo, False),\n",
        "                   Estacionamento(3, total_de_avioes, False, modelo, True)]\n",
        "\n",
        "avioes_distintos(estacionamentos, modelo)\n",
        "todo_aviao_tem_que_estacionar(total_de_avioes, estacionamentos, modelo)\n",
        "limita_vizinhos(modelo, estacionamentos, avioes)\n",
        "limita_aviao_grande_para_estacionamento_grande(modelo, estacionamentos, avioes)\n",
        "limitar_avioes_que_requerem_passaporte(modelo, estacionamentos, avioes)\n",
        "penalidades= prefere_avioes_com_controle_de_passaporte(modelo, estacionamentos, avioes)\n",
        "\n",
        "solucionador = cp_model.CpSolver()\n",
        "resolve(solucionador, modelo, estacionamentos, avioes, penalidades)"
      ],
      "metadata": {
        "colab": {
          "base_uri": "https://localhost:8080/"
        },
        "id": "4D8RODE1ag2x",
        "outputId": "ca8ea598-88d2-436d-90a8-30febcb4f5d6"
      },
      "execution_count": 80,
      "outputs": [
        {
          "output_type": "stream",
          "name": "stdout",
          "text": [
            "OPTIMAL\n",
            "Valor objetivo = 2000.0\n",
            "penalidade_1_1 tem valor 0\n",
            "penalidade_1_2 tem valor 1000\n",
            "penalidade_1_3 tem valor 0\n",
            "penalidade_3_1 tem valor 0\n",
            "penalidade_3_2 tem valor 0\n",
            "penalidade_3_3 tem valor 1000\n",
            "estacionamento_1 tem aviao 2 grande=False\n",
            "estacionamento_2 tem aviao 1 grande=False\n",
            "estacionamento_3 tem aviao 3 grande=False\n"
          ]
        }
      ]
    },
    {
      "cell_type": "code",
      "source": [
        "avioes = [Aviao(1, False, False),\n",
        "          Aviao(2, False, False),\n",
        "          Aviao(3, False, False),\n",
        "          Aviao(4, False, True)]\n",
        "modelo = cp_model.CpModel()\n",
        "total_de_avioes = len(avioes)\n",
        "variaveis_a_logar = []\n",
        "\n",
        "estacionamentos = [Estacionamento(1, total_de_avioes, False, modelo, True),\n",
        "                   Estacionamento(2, total_de_avioes, False, modelo, False),\n",
        "                   Estacionamento(3, total_de_avioes, False, modelo, False),\n",
        "                   Estacionamento(4, total_de_avioes, False, modelo, False)]\n",
        "\n",
        "avioes_distintos(estacionamentos, modelo)\n",
        "todo_aviao_tem_que_estacionar(total_de_avioes, estacionamentos, modelo)\n",
        "limita_vizinhos(modelo, estacionamentos, avioes)\n",
        "limita_aviao_grande_para_estacionamento_grande(modelo, estacionamentos, avioes)\n",
        "limitar_avioes_que_requerem_passaporte(modelo, estacionamentos, avioes)\n",
        "penalidades= prefere_avioes_com_controle_de_passaporte(modelo, estacionamentos, avioes)\n",
        "\n",
        "solucionador = cp_model.CpSolver()\n",
        "resolve(solucionador, modelo, estacionamentos, avioes, penalidades)"
      ],
      "metadata": {
        "colab": {
          "base_uri": "https://localhost:8080/"
        },
        "id": "S4P4BGumanfa",
        "outputId": "aca51994-84fc-445a-8b24-d7d4b8d7583a"
      },
      "execution_count": 81,
      "outputs": [
        {
          "output_type": "stream",
          "name": "stdout",
          "text": [
            "OPTIMAL\n",
            "Valor objetivo = 0.0\n",
            "penalidade_1_1 tem valor 0\n",
            "penalidade_1_2 tem valor 0\n",
            "penalidade_1_3 tem valor 0\n",
            "estacionamento_1 tem aviao 4 grande=False\n",
            "estacionamento_2 tem aviao 2 grande=False\n",
            "estacionamento_3 tem aviao 3 grande=False\n",
            "estacionamento_4 tem aviao 1 grande=False\n"
          ]
        }
      ]
    },
    {
      "cell_type": "code",
      "source": [],
      "metadata": {
        "id": "tp0tguK2ay_h"
      },
      "execution_count": 81,
      "outputs": []
    }
  ]
}