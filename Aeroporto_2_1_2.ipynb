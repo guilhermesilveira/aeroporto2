{
  "nbformat": 4,
  "nbformat_minor": 0,
  "metadata": {
    "colab": {
      "provenance": []
    },
    "kernelspec": {
      "name": "python3",
      "display_name": "Python 3"
    },
    "language_info": {
      "name": "python"
    }
  },
  "cells": [
    {
      "cell_type": "code",
      "source": [
        "!pip install ortools==9.7.2996 pandas==2.1.0"
      ],
      "metadata": {
        "colab": {
          "base_uri": "https://localhost:8080/"
        },
        "id": "7j4OtLBMmSfY",
        "outputId": "bcfaa2ea-2aae-4eb3-d377-ac670c9ae964"
      },
      "execution_count": 16,
      "outputs": [
        {
          "output_type": "stream",
          "name": "stdout",
          "text": [
            "Requirement already satisfied: ortools==9.7.2996 in /usr/local/lib/python3.10/dist-packages (9.7.2996)\n",
            "Requirement already satisfied: pandas==2.1.0 in /usr/local/lib/python3.10/dist-packages (2.1.0)\n",
            "Requirement already satisfied: absl-py>=0.13 in /usr/local/lib/python3.10/dist-packages (from ortools==9.7.2996) (1.4.0)\n",
            "Requirement already satisfied: numpy>=1.13.3 in /usr/local/lib/python3.10/dist-packages (from ortools==9.7.2996) (1.23.5)\n",
            "Requirement already satisfied: protobuf>=4.23.3 in /usr/local/lib/python3.10/dist-packages (from ortools==9.7.2996) (4.25.0)\n",
            "Requirement already satisfied: python-dateutil>=2.8.2 in /usr/local/lib/python3.10/dist-packages (from pandas==2.1.0) (2.8.2)\n",
            "Requirement already satisfied: pytz>=2020.1 in /usr/local/lib/python3.10/dist-packages (from pandas==2.1.0) (2023.3.post1)\n",
            "Requirement already satisfied: tzdata>=2022.1 in /usr/local/lib/python3.10/dist-packages (from pandas==2.1.0) (2023.3)\n",
            "Requirement already satisfied: six>=1.5 in /usr/local/lib/python3.10/dist-packages (from python-dateutil>=2.8.2->pandas==2.1.0) (1.16.0)\n"
          ]
        }
      ]
    },
    {
      "cell_type": "code",
      "execution_count": 17,
      "metadata": {
        "id": "4h9pRo3glwYk"
      },
      "outputs": [],
      "source": [
        "from ortools.sat.python import cp_model"
      ]
    },
    {
      "cell_type": "code",
      "source": [
        "def resolve(solucionador, modelo, estacionamentos, avioes):\n",
        "  status = solucionador.Solve(modelo)\n",
        "  print(solucionador.StatusName(status))\n",
        "  if status == cp_model.INFEASIBLE:\n",
        "    print(\"Sem solucao\")\n",
        "    return\n",
        "  for estacionamento in estacionamentos:\n",
        "    variavel = estacionamento.variavel\n",
        "    valor = solucionador.Value(variavel)\n",
        "    if valor == 0:\n",
        "      print(f\"{variavel} sem aviao\")\n",
        "    else:\n",
        "      aviao = avioes[valor - 1]\n",
        "      print(f\"{variavel} tem aviao {valor} grande={aviao.grande}\")\n"
      ],
      "metadata": {
        "id": "CKCYwa_Dw3iB"
      },
      "execution_count": 18,
      "outputs": []
    },
    {
      "cell_type": "code",
      "source": [
        "def avioes_distintos(estacionamentos, modelo):\n",
        "  variaveis = [estacionamento.variavel for estacionamento in estacionamentos]\n",
        "  modelo.AddAllDifferent(variaveis)"
      ],
      "metadata": {
        "id": "OY57DyhszDKf"
      },
      "execution_count": 19,
      "outputs": []
    },
    {
      "cell_type": "code",
      "source": [
        "def todo_aviao_tem_que_estacionar(total_de_avioes, estacionamentos, modelo):\n",
        "  variaveis = {}\n",
        "  for i in range(1, total_de_avioes + 1):\n",
        "    for j, estacionamento in enumerate(estacionamentos):\n",
        "      aviao_i_em_j = modelo.NewBoolVar(f'aviao_{i}_em{j}')\n",
        "      modelo.Add(estacionamento.variavel == i).OnlyEnforceIf(aviao_i_em_j)\n",
        "      modelo.Add(estacionamento.variavel != i).OnlyEnforceIf(aviao_i_em_j.Not())\n",
        "      variaveis[(i, j)] = aviao_i_em_j\n",
        "\n",
        "  for i in range(1, total_de_avioes + 1):\n",
        "    modelo.AddExactlyOne([variaveis[(i,j)] for j in range(len(estacionamentos))])\n"
      ],
      "metadata": {
        "id": "TGlRLwX7zug8"
      },
      "execution_count": 20,
      "outputs": []
    },
    {
      "cell_type": "code",
      "source": [
        "class Estacionamento:\n",
        "  def __init__(self, k, total_de_avioes, grande, modelo, tem_controle_de_passaporte):\n",
        "    self.grande = grande\n",
        "    self.tem_controle_de_passaporte = tem_controle_de_passaporte\n",
        "    self.variavel = modelo.NewIntVar(0, total_de_avioes, f'estacionamento_{k}')\n",
        "    self.k = k\n",
        "    self.vizinhos = []\n",
        "    self.recebe_aviao_grande = modelo.NewBoolVar(f'recebe_aviao_grande_{k}')\n",
        "    if not self.grande:\n",
        "      modelo.Add(self.recebe_aviao_grande == 0)"
      ],
      "metadata": {
        "id": "qGAibZ_G9Z4w"
      },
      "execution_count": 21,
      "outputs": []
    },
    {
      "cell_type": "code",
      "source": [
        "class Aviao:\n",
        "  def __init__(self, k, grande, requer_controle_de_passaporte):\n",
        "    self.k = k\n",
        "    self.grande = grande\n",
        "    self.requer_controle_de_passaporte = requer_controle_de_passaporte"
      ],
      "metadata": {
        "id": "70GM0fyB-xbu"
      },
      "execution_count": 22,
      "outputs": []
    },
    {
      "cell_type": "code",
      "source": [
        "def limita_aviao_grande_para_estacionamento_grande(modelo, estacionamentos, avioes):\n",
        "  avioes_grandes = [aviao for aviao in avioes if aviao.grande]\n",
        "  for estacionamento in estacionamentos:\n",
        "    for aviao in avioes_grandes:\n",
        "      modelo.Add(estacionamento.variavel != aviao.k).OnlyEnforceIf(estacionamento.recebe_aviao_grande.Not())"
      ],
      "metadata": {
        "id": "yqig-Dd0-1p-"
      },
      "execution_count": 23,
      "outputs": []
    },
    {
      "cell_type": "code",
      "source": [
        "def limita_vizinhos(modelo, estacionamentos, avioes):\n",
        "  for estacionamento in estacionamentos:\n",
        "    if not estacionamento.grande:\n",
        "      continue\n",
        "    for vizinho in estacionamento.vizinhos:\n",
        "      if vizinho.grande:\n",
        "        # se o vizinho tem um aviao grande => eu nao posso receber aviao grande\n",
        "        modelo.Add(estacionamento.recebe_aviao_grande == 0).OnlyEnforceIf(vizinho.recebe_aviao_grande)"
      ],
      "metadata": {
        "id": "CHDaxcEICuxl"
      },
      "execution_count": 24,
      "outputs": []
    },
    {
      "cell_type": "code",
      "source": [
        "def limitar_avioes_que_requerem_passaporte(modelo, estacionamentos, avioes):\n",
        "  avioes_com_controle = [aviao for aviao in avioes if aviao.requer_controle_de_passaporte]\n",
        "  estacionamentos_sem_controle = [estacionamento for estacionamento in estacionamentos if not estacionamento.tem_controle_de_passaporte]\n",
        "  for estacionamento in estacionamentos_sem_controle:\n",
        "    for aviao in avioes_com_controle:\n",
        "      modelo.Add(estacionamento.variavel != aviao.k)"
      ],
      "metadata": {
        "id": "0eGLHGkgR1LE"
      },
      "execution_count": 25,
      "outputs": []
    },
    {
      "cell_type": "code",
      "source": [
        "avioes = [Aviao(1, False, True),\n",
        "          Aviao(2, False, False)]\n",
        "modelo = cp_model.CpModel()\n",
        "total_de_avioes = len(avioes)\n",
        "\n",
        "estacionamentos = [Estacionamento(1, total_de_avioes, False, modelo, True),\n",
        "                   Estacionamento(2, total_de_avioes, False, modelo, False)]\n",
        "\n",
        "avioes_distintos(estacionamentos, modelo)\n",
        "todo_aviao_tem_que_estacionar(total_de_avioes, estacionamentos, modelo)\n",
        "limita_vizinhos(modelo, estacionamentos, avioes)\n",
        "limita_aviao_grande_para_estacionamento_grande(modelo, estacionamentos, avioes)\n",
        "limitar_avioes_que_requerem_passaporte(modelo, estacionamentos, avioes)\n",
        "\n",
        "solucionador = cp_model.CpSolver()\n",
        "resolve(solucionador, modelo, estacionamentos, avioes)"
      ],
      "metadata": {
        "colab": {
          "base_uri": "https://localhost:8080/"
        },
        "id": "2_aGd__Z_Ftn",
        "outputId": "7b6f6a0b-f61a-4f66-cb6b-c71103d82ed7"
      },
      "execution_count": 26,
      "outputs": [
        {
          "output_type": "stream",
          "name": "stdout",
          "text": [
            "OPTIMAL\n",
            "estacionamento_1 tem aviao 1 grande=False\n",
            "estacionamento_2 tem aviao 2 grande=False\n"
          ]
        }
      ]
    },
    {
      "cell_type": "code",
      "source": [
        "avioes = [Aviao(1, False, False),\n",
        "          Aviao(2, False, True)]\n",
        "modelo = cp_model.CpModel()\n",
        "total_de_avioes = len(avioes)\n",
        "\n",
        "estacionamentos = [Estacionamento(1, total_de_avioes, False, modelo, True),\n",
        "                   Estacionamento(2, total_de_avioes, False, modelo, False)]\n",
        "\n",
        "avioes_distintos(estacionamentos, modelo)\n",
        "todo_aviao_tem_que_estacionar(total_de_avioes, estacionamentos, modelo)\n",
        "limita_vizinhos(modelo, estacionamentos, avioes)\n",
        "limita_aviao_grande_para_estacionamento_grande(modelo, estacionamentos, avioes)\n",
        "limitar_avioes_que_requerem_passaporte(modelo, estacionamentos, avioes)\n",
        "\n",
        "solucionador = cp_model.CpSolver()\n",
        "resolve(solucionador, modelo, estacionamentos, avioes)"
      ],
      "metadata": {
        "id": "hJnPvCnSLSE4",
        "colab": {
          "base_uri": "https://localhost:8080/"
        },
        "outputId": "e5201563-1b41-4ed9-ccf7-cd21d89eb6f6"
      },
      "execution_count": 27,
      "outputs": [
        {
          "output_type": "stream",
          "name": "stdout",
          "text": [
            "OPTIMAL\n",
            "estacionamento_1 tem aviao 2 grande=False\n",
            "estacionamento_2 tem aviao 1 grande=False\n"
          ]
        }
      ]
    },
    {
      "cell_type": "code",
      "source": [
        "avioes = [Aviao(1, False, True),\n",
        "          Aviao(2, False, True)]\n",
        "modelo = cp_model.CpModel()\n",
        "total_de_avioes = len(avioes)\n",
        "\n",
        "estacionamentos = [Estacionamento(1, total_de_avioes, False, modelo, True),\n",
        "                   Estacionamento(2, total_de_avioes, False, modelo, False)]\n",
        "\n",
        "avioes_distintos(estacionamentos, modelo)\n",
        "todo_aviao_tem_que_estacionar(total_de_avioes, estacionamentos, modelo)\n",
        "limita_vizinhos(modelo, estacionamentos, avioes)\n",
        "limita_aviao_grande_para_estacionamento_grande(modelo, estacionamentos, avioes)\n",
        "limitar_avioes_que_requerem_passaporte(modelo, estacionamentos, avioes)\n",
        "\n",
        "solucionador = cp_model.CpSolver()\n",
        "resolve(solucionador, modelo, estacionamentos, avioes)"
      ],
      "metadata": {
        "colab": {
          "base_uri": "https://localhost:8080/"
        },
        "id": "7mgwNDGDUCbz",
        "outputId": "f2a87878-5558-4c94-c803-68e54984ec2d"
      },
      "execution_count": 28,
      "outputs": [
        {
          "output_type": "stream",
          "name": "stdout",
          "text": [
            "INFEASIBLE\n",
            "Sem solucao\n"
          ]
        }
      ]
    },
    {
      "cell_type": "code",
      "source": [
        "avioes = [Aviao(1, False, True),\n",
        "          Aviao(2, False, False),\n",
        "          Aviao(3, False, False)]\n",
        "modelo = cp_model.CpModel()\n",
        "total_de_avioes = len(avioes)\n",
        "\n",
        "estacionamentos = [Estacionamento(1, total_de_avioes, False, modelo, True),\n",
        "                   Estacionamento(2, total_de_avioes, False, modelo, False),\n",
        "                   Estacionamento(3, total_de_avioes, False, modelo, False)]\n",
        "\n",
        "avioes_distintos(estacionamentos, modelo)\n",
        "todo_aviao_tem_que_estacionar(total_de_avioes, estacionamentos, modelo)\n",
        "limita_vizinhos(modelo, estacionamentos, avioes)\n",
        "limita_aviao_grande_para_estacionamento_grande(modelo, estacionamentos, avioes)\n",
        "limitar_avioes_que_requerem_passaporte(modelo, estacionamentos, avioes)\n",
        "\n",
        "solucionador = cp_model.CpSolver()\n",
        "resolve(solucionador, modelo, estacionamentos, avioes)"
      ],
      "metadata": {
        "colab": {
          "base_uri": "https://localhost:8080/"
        },
        "id": "mos-qv_8UGZy",
        "outputId": "a3a73ad4-a6f0-4276-fd12-dbcd5d578887"
      },
      "execution_count": 29,
      "outputs": [
        {
          "output_type": "stream",
          "name": "stdout",
          "text": [
            "OPTIMAL\n",
            "estacionamento_1 tem aviao 1 grande=False\n",
            "estacionamento_2 tem aviao 3 grande=False\n",
            "estacionamento_3 tem aviao 2 grande=False\n"
          ]
        }
      ]
    },
    {
      "cell_type": "code",
      "source": [
        "avioes = [Aviao(1, False, True),\n",
        "          Aviao(2, True, False),\n",
        "          Aviao(3, False, False)]\n",
        "modelo = cp_model.CpModel()\n",
        "total_de_avioes = len(avioes)\n",
        "\n",
        "estacionamentos = [Estacionamento(1, total_de_avioes, False, modelo, True),\n",
        "                   Estacionamento(2, total_de_avioes, False, modelo, False),\n",
        "                   Estacionamento(3, total_de_avioes, True, modelo, False)]\n",
        "\n",
        "avioes_distintos(estacionamentos, modelo)\n",
        "todo_aviao_tem_que_estacionar(total_de_avioes, estacionamentos, modelo)\n",
        "limita_vizinhos(modelo, estacionamentos, avioes)\n",
        "limita_aviao_grande_para_estacionamento_grande(modelo, estacionamentos, avioes)\n",
        "limitar_avioes_que_requerem_passaporte(modelo, estacionamentos, avioes)\n",
        "\n",
        "solucionador = cp_model.CpSolver()\n",
        "resolve(solucionador, modelo, estacionamentos, avioes)"
      ],
      "metadata": {
        "colab": {
          "base_uri": "https://localhost:8080/"
        },
        "id": "_xWQ5VhhUMtS",
        "outputId": "3d55cc89-714e-4702-bb11-54957e4ffb5c"
      },
      "execution_count": 30,
      "outputs": [
        {
          "output_type": "stream",
          "name": "stdout",
          "text": [
            "OPTIMAL\n",
            "estacionamento_1 tem aviao 1 grande=False\n",
            "estacionamento_2 tem aviao 3 grande=False\n",
            "estacionamento_3 tem aviao 2 grande=True\n"
          ]
        }
      ]
    },
    {
      "cell_type": "code",
      "source": [
        "avioes = [Aviao(1, False, True),\n",
        "          Aviao(2, True, False),\n",
        "          Aviao(3, False, False),\n",
        "          Aviao(4, True, True)]\n",
        "modelo = cp_model.CpModel()\n",
        "total_de_avioes = len(avioes)\n",
        "\n",
        "estacionamentos = [Estacionamento(1, total_de_avioes, False, modelo, True),\n",
        "                   Estacionamento(2, total_de_avioes, False, modelo, False),\n",
        "                   Estacionamento(3, total_de_avioes, True, modelo, False),\n",
        "                   Estacionamento(4, total_de_avioes, True, modelo, True)]\n",
        "\n",
        "avioes_distintos(estacionamentos, modelo)\n",
        "todo_aviao_tem_que_estacionar(total_de_avioes, estacionamentos, modelo)\n",
        "limita_vizinhos(modelo, estacionamentos, avioes)\n",
        "limita_aviao_grande_para_estacionamento_grande(modelo, estacionamentos, avioes)\n",
        "limitar_avioes_que_requerem_passaporte(modelo, estacionamentos, avioes)\n",
        "\n",
        "solucionador = cp_model.CpSolver()\n",
        "resolve(solucionador, modelo, estacionamentos, avioes)"
      ],
      "metadata": {
        "colab": {
          "base_uri": "https://localhost:8080/"
        },
        "id": "nX5xcTgiUTxL",
        "outputId": "98e0c845-2ec0-49f1-d8a8-20a165951b7a"
      },
      "execution_count": 31,
      "outputs": [
        {
          "output_type": "stream",
          "name": "stdout",
          "text": [
            "OPTIMAL\n",
            "estacionamento_1 tem aviao 1 grande=False\n",
            "estacionamento_2 tem aviao 3 grande=False\n",
            "estacionamento_3 tem aviao 2 grande=True\n",
            "estacionamento_4 tem aviao 4 grande=True\n"
          ]
        }
      ]
    },
    {
      "cell_type": "code",
      "source": [],
      "metadata": {
        "id": "xgopqb3AUjK6"
      },
      "execution_count": null,
      "outputs": []
    }
  ]
}